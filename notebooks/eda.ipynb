{
 "cells": [
  {
   "cell_type": "markdown",
   "id": "f5992147",
   "metadata": {},
   "source": [
    "# **Análisis Exploratorio de datos**"
   ]
  },
  {
   "cell_type": "code",
   "execution_count": 1,
   "id": "2823db2d",
   "metadata": {},
   "outputs": [],
   "source": [
    "# Cargar las librerias necesarias\n",
    "import pandas as pd\n",
    "import numpy as np\n",
    "import seaborn as sns\n",
    "import matplotlib.pyplot as plt"
   ]
  },
  {
   "cell_type": "markdown",
   "id": "eca9b19c",
   "metadata": {},
   "source": [
    "**Cargar conjunto de datos**"
   ]
  },
  {
   "cell_type": "code",
   "execution_count": 2,
   "id": "7856c57a",
   "metadata": {},
   "outputs": [
    {
     "data": {
      "text/html": [
       "<div>\n",
       "<style scoped>\n",
       "    .dataframe tbody tr th:only-of-type {\n",
       "        vertical-align: middle;\n",
       "    }\n",
       "\n",
       "    .dataframe tbody tr th {\n",
       "        vertical-align: top;\n",
       "    }\n",
       "\n",
       "    .dataframe thead th {\n",
       "        text-align: right;\n",
       "    }\n",
       "</style>\n",
       "<table border=\"1\" class=\"dataframe\">\n",
       "  <thead>\n",
       "    <tr style=\"text-align: right;\">\n",
       "      <th></th>\n",
       "      <th>Order_ID</th>\n",
       "      <th>Agent_Age</th>\n",
       "      <th>Agent_Rating</th>\n",
       "      <th>Store_Latitude</th>\n",
       "      <th>Store_Longitude</th>\n",
       "      <th>Drop_Latitude</th>\n",
       "      <th>Drop_Longitude</th>\n",
       "      <th>Weather</th>\n",
       "      <th>Traffic</th>\n",
       "      <th>Vehicle</th>\n",
       "      <th>Area</th>\n",
       "      <th>Delivery_Time</th>\n",
       "      <th>Category</th>\n",
       "      <th>Order_Time</th>\n",
       "      <th>Pickup_Time</th>\n",
       "      <th>Order_Date</th>\n",
       "    </tr>\n",
       "  </thead>\n",
       "  <tbody>\n",
       "    <tr>\n",
       "      <th>0</th>\n",
       "      <td>ialx566343618</td>\n",
       "      <td>37</td>\n",
       "      <td>4.9</td>\n",
       "      <td>22.745049</td>\n",
       "      <td>75.892471</td>\n",
       "      <td>22.765049</td>\n",
       "      <td>75.912471</td>\n",
       "      <td>Sunny</td>\n",
       "      <td>High</td>\n",
       "      <td>motorcycle</td>\n",
       "      <td>Urban</td>\n",
       "      <td>120</td>\n",
       "      <td>Clothing</td>\n",
       "      <td>11:30:00</td>\n",
       "      <td>11:45:00</td>\n",
       "      <td>2022-03-19</td>\n",
       "    </tr>\n",
       "    <tr>\n",
       "      <th>1</th>\n",
       "      <td>akqg208421122</td>\n",
       "      <td>34</td>\n",
       "      <td>4.5</td>\n",
       "      <td>12.913041</td>\n",
       "      <td>77.683237</td>\n",
       "      <td>13.043041</td>\n",
       "      <td>77.813237</td>\n",
       "      <td>Stormy</td>\n",
       "      <td>Jam</td>\n",
       "      <td>scooter</td>\n",
       "      <td>Metropolitian</td>\n",
       "      <td>165</td>\n",
       "      <td>Electronics</td>\n",
       "      <td>19:45:00</td>\n",
       "      <td>19:50:00</td>\n",
       "      <td>2022-03-25</td>\n",
       "    </tr>\n",
       "    <tr>\n",
       "      <th>2</th>\n",
       "      <td>njpu434582536</td>\n",
       "      <td>23</td>\n",
       "      <td>4.4</td>\n",
       "      <td>12.914264</td>\n",
       "      <td>77.678400</td>\n",
       "      <td>12.924264</td>\n",
       "      <td>77.688400</td>\n",
       "      <td>Sandstorms</td>\n",
       "      <td>Low</td>\n",
       "      <td>motorcycle</td>\n",
       "      <td>Urban</td>\n",
       "      <td>130</td>\n",
       "      <td>Sports</td>\n",
       "      <td>08:30:00</td>\n",
       "      <td>08:45:00</td>\n",
       "      <td>2022-03-19</td>\n",
       "    </tr>\n",
       "    <tr>\n",
       "      <th>3</th>\n",
       "      <td>rjto796129700</td>\n",
       "      <td>38</td>\n",
       "      <td>4.7</td>\n",
       "      <td>11.003669</td>\n",
       "      <td>76.976494</td>\n",
       "      <td>11.053669</td>\n",
       "      <td>77.026494</td>\n",
       "      <td>Sunny</td>\n",
       "      <td>Medium</td>\n",
       "      <td>motorcycle</td>\n",
       "      <td>Metropolitian</td>\n",
       "      <td>105</td>\n",
       "      <td>Cosmetics</td>\n",
       "      <td>18:00:00</td>\n",
       "      <td>18:10:00</td>\n",
       "      <td>2022-04-05</td>\n",
       "    </tr>\n",
       "    <tr>\n",
       "      <th>4</th>\n",
       "      <td>zguw716275638</td>\n",
       "      <td>32</td>\n",
       "      <td>4.6</td>\n",
       "      <td>12.972793</td>\n",
       "      <td>80.249982</td>\n",
       "      <td>13.012793</td>\n",
       "      <td>80.289982</td>\n",
       "      <td>Cloudy</td>\n",
       "      <td>High</td>\n",
       "      <td>scooter</td>\n",
       "      <td>Metropolitian</td>\n",
       "      <td>150</td>\n",
       "      <td>Toys</td>\n",
       "      <td>13:30:00</td>\n",
       "      <td>13:45:00</td>\n",
       "      <td>2022-03-26</td>\n",
       "    </tr>\n",
       "  </tbody>\n",
       "</table>\n",
       "</div>"
      ],
      "text/plain": [
       "        Order_ID  Agent_Age  Agent_Rating  Store_Latitude  Store_Longitude  \\\n",
       "0  ialx566343618         37           4.9       22.745049        75.892471   \n",
       "1  akqg208421122         34           4.5       12.913041        77.683237   \n",
       "2  njpu434582536         23           4.4       12.914264        77.678400   \n",
       "3  rjto796129700         38           4.7       11.003669        76.976494   \n",
       "4  zguw716275638         32           4.6       12.972793        80.249982   \n",
       "\n",
       "   Drop_Latitude  Drop_Longitude     Weather Traffic     Vehicle  \\\n",
       "0      22.765049       75.912471       Sunny    High  motorcycle   \n",
       "1      13.043041       77.813237      Stormy     Jam     scooter   \n",
       "2      12.924264       77.688400  Sandstorms     Low  motorcycle   \n",
       "3      11.053669       77.026494       Sunny  Medium  motorcycle   \n",
       "4      13.012793       80.289982      Cloudy    High     scooter   \n",
       "\n",
       "            Area  Delivery_Time     Category Order_Time Pickup_Time  \\\n",
       "0          Urban            120     Clothing   11:30:00    11:45:00   \n",
       "1  Metropolitian            165  Electronics   19:45:00    19:50:00   \n",
       "2          Urban            130       Sports   08:30:00    08:45:00   \n",
       "3  Metropolitian            105    Cosmetics   18:00:00    18:10:00   \n",
       "4  Metropolitian            150         Toys   13:30:00    13:45:00   \n",
       "\n",
       "   Order_Date  \n",
       "0  2022-03-19  \n",
       "1  2022-03-25  \n",
       "2  2022-03-19  \n",
       "3  2022-04-05  \n",
       "4  2022-03-26  "
      ]
     },
     "execution_count": 2,
     "metadata": {},
     "output_type": "execute_result"
    }
   ],
   "source": [
    "df_amazon_delivery = pd.read_csv('../data/processed/amazon_delivery_limpios.csv')\n",
    "df_amazon_delivery.head()"
   ]
  },
  {
   "cell_type": "markdown",
   "id": "c468e2ec",
   "metadata": {},
   "source": [
    "**Exploración del conjuto de datos**"
   ]
  },
  {
   "cell_type": "code",
   "execution_count": 3,
   "id": "b7dde901",
   "metadata": {},
   "outputs": [
    {
     "name": "stdout",
     "output_type": "stream",
     "text": [
      "El conjunto de datos amazon_delivery_limpio.csv contiene:\n",
      "filas:     43644\n",
      "columnas:     16\n"
     ]
    }
   ],
   "source": [
    "filas, columnas = df_amazon_delivery.shape\n",
    "print(f'El conjunto de datos amazon_delivery_limpio.csv contiene:\\nfilas:{filas:>10}\\ncolumnas:{columnas:>7}')"
   ]
  },
  {
   "cell_type": "markdown",
   "id": "29b3fcca",
   "metadata": {},
   "source": [
    "*Tipos de datos de cada columna*"
   ]
  },
  {
   "cell_type": "code",
   "execution_count": 4,
   "id": "91782905",
   "metadata": {},
   "outputs": [
    {
     "name": "stdout",
     "output_type": "stream",
     "text": [
      "<class 'pandas.core.frame.DataFrame'>\n",
      "RangeIndex: 43644 entries, 0 to 43643\n",
      "Data columns (total 16 columns):\n",
      " #   Column           Non-Null Count  Dtype  \n",
      "---  ------           --------------  -----  \n",
      " 0   Order_ID         43644 non-null  object \n",
      " 1   Agent_Age        43644 non-null  int64  \n",
      " 2   Agent_Rating     43644 non-null  float64\n",
      " 3   Store_Latitude   43644 non-null  float64\n",
      " 4   Store_Longitude  43644 non-null  float64\n",
      " 5   Drop_Latitude    43644 non-null  float64\n",
      " 6   Drop_Longitude   43644 non-null  float64\n",
      " 7   Weather          43644 non-null  object \n",
      " 8   Traffic          43644 non-null  object \n",
      " 9   Vehicle          43644 non-null  object \n",
      " 10  Area             43644 non-null  object \n",
      " 11  Delivery_Time    43644 non-null  int64  \n",
      " 12  Category         43644 non-null  object \n",
      " 13  Order_Time       43644 non-null  object \n",
      " 14  Pickup_Time      43644 non-null  object \n",
      " 15  Order_Date       43644 non-null  object \n",
      "dtypes: float64(5), int64(2), object(9)\n",
      "memory usage: 5.3+ MB\n"
     ]
    }
   ],
   "source": [
    "df_amazon_delivery.info()"
   ]
  },
  {
   "cell_type": "markdown",
   "id": "c14ea3b0",
   "metadata": {},
   "source": [
    "Las columnas **Order_Time**, **Pickup_Time** se tienen que cambiar el tipo de object a time y **Order_Date** de object a datetime.\n",
    "\n",
    "Las demás columna son correctos los tipos de datos."
   ]
  },
  {
   "cell_type": "markdown",
   "id": "6b1a9c7d",
   "metadata": {},
   "source": [
    "**Transformación del tipo de datos de *Order_Time* y *Pickup_Time*.**"
   ]
  },
  {
   "cell_type": "code",
   "execution_count": 5,
   "id": "6ee00250",
   "metadata": {},
   "outputs": [
    {
     "name": "stdout",
     "output_type": "stream",
     "text": [
      "Tipo de Order_Time después de la primera conversión datetime64[ns]\n",
      "\n",
      "Columna con solo la hora\n",
      "0    11:30:00\n",
      "1    19:45:00\n",
      "2    08:30:00\n",
      "Name: Order_Time, dtype: object\n",
      "Tipo de Order_Time despuiés de extraer solo la hora object\n"
     ]
    }
   ],
   "source": [
    "# Order_Time\n",
    "df_amazon_delivery['Order_Time'] = pd.to_datetime(df_amazon_delivery['Order_Time'], format='%H:%M:%S', errors='coerce')\n",
    "print('Tipo de Order_Time después de la primera conversión', df_amazon_delivery['Order_Time'].dtype)\n",
    "\n",
    "df_amazon_delivery['Order_Time'] = df_amazon_delivery['Order_Time'].dt.time\n",
    "\n",
    "print('\\nColumna con solo la hora')\n",
    "print(df_amazon_delivery['Order_Time'].head(3))\n",
    "\n",
    "print('Tipo de Order_Time despuiés de extraer solo la hora', df_amazon_delivery['Order_Time'].dtype)"
   ]
  },
  {
   "cell_type": "code",
   "execution_count": 13,
   "id": "987098a4",
   "metadata": {},
   "outputs": [
    {
     "name": "stdout",
     "output_type": "stream",
     "text": [
      "Tipo de Pickup_Time después de la primera conversión datetime64[ns]\n",
      "\n",
      "Columna con solo la hora\n",
      "0    11:45:00\n",
      "1    19:50:00\n",
      "2    08:45:00\n",
      "Name: Pickup_Time, dtype: object\n",
      "Tipode Pickup_Time después de extraer solo la hora object\n"
     ]
    }
   ],
   "source": [
    "# Pickup_Time\n",
    "df_amazon_delivery['Pickup_Time'] = pd.to_datetime(df_amazon_delivery['Pickup_Time'], format='%H:%M:%S', errors='coerce')\n",
    "print('Tipo de Pickup_Time después de la primera conversión', df_amazon_delivery['Pickup_Time'].dtype)\n",
    "\n",
    "df_amazon_delivery['Pickup_Time'] = df_amazon_delivery['Pickup_Time'].dt.time\n",
    "\n",
    "print('\\nColumna con solo la hora')\n",
    "print(df_amazon_delivery['Pickup_Time'].head(3))\n",
    "\n",
    "print('Tipode Pickup_Time después de extraer solo la hora', df_amazon_delivery['Pickup_Time'].dtype)"
   ]
  },
  {
   "cell_type": "code",
   "execution_count": null,
   "id": "fe7df67f",
   "metadata": {},
   "outputs": [
    {
     "name": "stdout",
     "output_type": "stream",
     "text": [
      "Tipo de Order_Date después de la primera conversion: datetime64[ns]\n",
      "\n",
      "Columna con solo la fehca\n",
      "0   2022-03-19\n",
      "1   2022-03-25\n",
      "2   2022-03-19\n",
      "Name: Order_Date, dtype: datetime64[ns]\n",
      "\n",
      "Tipo de Order_Date después de extraer solo la fecha datetime64[ns]\n"
     ]
    }
   ],
   "source": [
    "# Order_Date\n",
    "df_amazon_delivery['Order_Date'] = pd.to_datetime(df_amazon_delivery['Order_Date'], format='%Y-%m-%d', errors='coerce')\n",
    "print('Tipo de Order_Date después de la primera conversion:', df_amazon_delivery['Order_Date'].dtype)\n",
    "\n",
    "print('\\nColumna con solo la fehca')\n",
    "print(df_amazon_delivery['Order_Date'].head(3))"
   ]
  }
 ],
 "metadata": {
  "kernelspec": {
   "display_name": "venv",
   "language": "python",
   "name": "python3"
  },
  "language_info": {
   "codemirror_mode": {
    "name": "ipython",
    "version": 3
   },
   "file_extension": ".py",
   "mimetype": "text/x-python",
   "name": "python",
   "nbconvert_exporter": "python",
   "pygments_lexer": "ipython3",
   "version": "3.12.1"
  }
 },
 "nbformat": 4,
 "nbformat_minor": 5
}
