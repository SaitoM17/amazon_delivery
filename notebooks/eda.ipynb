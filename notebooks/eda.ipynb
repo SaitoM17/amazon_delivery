{
 "cells": [
  {
   "cell_type": "markdown",
   "id": "f5992147",
   "metadata": {},
   "source": [
    "# **Análisis Exploratorio de datos**"
   ]
  },
  {
   "cell_type": "code",
   "execution_count": 1,
   "id": "2823db2d",
   "metadata": {},
   "outputs": [],
   "source": [
    "# Cargar las librerias necesarias\n",
    "import pandas as pd\n",
    "import numpy as np\n",
    "import seaborn as sns\n",
    "import matplotlib.pyplot as plt"
   ]
  },
  {
   "cell_type": "markdown",
   "id": "eca9b19c",
   "metadata": {},
   "source": [
    "**Cargar conjunto de datos**"
   ]
  },
  {
   "cell_type": "code",
   "execution_count": 2,
   "id": "7856c57a",
   "metadata": {},
   "outputs": [
    {
     "data": {
      "text/html": [
       "<div>\n",
       "<style scoped>\n",
       "    .dataframe tbody tr th:only-of-type {\n",
       "        vertical-align: middle;\n",
       "    }\n",
       "\n",
       "    .dataframe tbody tr th {\n",
       "        vertical-align: top;\n",
       "    }\n",
       "\n",
       "    .dataframe thead th {\n",
       "        text-align: right;\n",
       "    }\n",
       "</style>\n",
       "<table border=\"1\" class=\"dataframe\">\n",
       "  <thead>\n",
       "    <tr style=\"text-align: right;\">\n",
       "      <th></th>\n",
       "      <th>Order_ID</th>\n",
       "      <th>Agent_Age</th>\n",
       "      <th>Agent_Rating</th>\n",
       "      <th>Store_Latitude</th>\n",
       "      <th>Store_Longitude</th>\n",
       "      <th>Drop_Latitude</th>\n",
       "      <th>Drop_Longitude</th>\n",
       "      <th>Weather</th>\n",
       "      <th>Traffic</th>\n",
       "      <th>Vehicle</th>\n",
       "      <th>Area</th>\n",
       "      <th>Delivery_Time</th>\n",
       "      <th>Category</th>\n",
       "      <th>Order_Time</th>\n",
       "      <th>Pickup_Time</th>\n",
       "      <th>Order_Date</th>\n",
       "    </tr>\n",
       "  </thead>\n",
       "  <tbody>\n",
       "    <tr>\n",
       "      <th>0</th>\n",
       "      <td>ialx566343618</td>\n",
       "      <td>37</td>\n",
       "      <td>4.9</td>\n",
       "      <td>22.745049</td>\n",
       "      <td>75.892471</td>\n",
       "      <td>22.765049</td>\n",
       "      <td>75.912471</td>\n",
       "      <td>Sunny</td>\n",
       "      <td>High</td>\n",
       "      <td>motorcycle</td>\n",
       "      <td>Urban</td>\n",
       "      <td>120</td>\n",
       "      <td>Clothing</td>\n",
       "      <td>11:30:00</td>\n",
       "      <td>11:45:00</td>\n",
       "      <td>2022-03-19</td>\n",
       "    </tr>\n",
       "    <tr>\n",
       "      <th>1</th>\n",
       "      <td>akqg208421122</td>\n",
       "      <td>34</td>\n",
       "      <td>4.5</td>\n",
       "      <td>12.913041</td>\n",
       "      <td>77.683237</td>\n",
       "      <td>13.043041</td>\n",
       "      <td>77.813237</td>\n",
       "      <td>Stormy</td>\n",
       "      <td>Jam</td>\n",
       "      <td>scooter</td>\n",
       "      <td>Metropolitian</td>\n",
       "      <td>165</td>\n",
       "      <td>Electronics</td>\n",
       "      <td>19:45:00</td>\n",
       "      <td>19:50:00</td>\n",
       "      <td>2022-03-25</td>\n",
       "    </tr>\n",
       "    <tr>\n",
       "      <th>2</th>\n",
       "      <td>njpu434582536</td>\n",
       "      <td>23</td>\n",
       "      <td>4.4</td>\n",
       "      <td>12.914264</td>\n",
       "      <td>77.678400</td>\n",
       "      <td>12.924264</td>\n",
       "      <td>77.688400</td>\n",
       "      <td>Sandstorms</td>\n",
       "      <td>Low</td>\n",
       "      <td>motorcycle</td>\n",
       "      <td>Urban</td>\n",
       "      <td>130</td>\n",
       "      <td>Sports</td>\n",
       "      <td>08:30:00</td>\n",
       "      <td>08:45:00</td>\n",
       "      <td>2022-03-19</td>\n",
       "    </tr>\n",
       "    <tr>\n",
       "      <th>3</th>\n",
       "      <td>rjto796129700</td>\n",
       "      <td>38</td>\n",
       "      <td>4.7</td>\n",
       "      <td>11.003669</td>\n",
       "      <td>76.976494</td>\n",
       "      <td>11.053669</td>\n",
       "      <td>77.026494</td>\n",
       "      <td>Sunny</td>\n",
       "      <td>Medium</td>\n",
       "      <td>motorcycle</td>\n",
       "      <td>Metropolitian</td>\n",
       "      <td>105</td>\n",
       "      <td>Cosmetics</td>\n",
       "      <td>18:00:00</td>\n",
       "      <td>18:10:00</td>\n",
       "      <td>2022-04-05</td>\n",
       "    </tr>\n",
       "    <tr>\n",
       "      <th>4</th>\n",
       "      <td>zguw716275638</td>\n",
       "      <td>32</td>\n",
       "      <td>4.6</td>\n",
       "      <td>12.972793</td>\n",
       "      <td>80.249982</td>\n",
       "      <td>13.012793</td>\n",
       "      <td>80.289982</td>\n",
       "      <td>Cloudy</td>\n",
       "      <td>High</td>\n",
       "      <td>scooter</td>\n",
       "      <td>Metropolitian</td>\n",
       "      <td>150</td>\n",
       "      <td>Toys</td>\n",
       "      <td>13:30:00</td>\n",
       "      <td>13:45:00</td>\n",
       "      <td>2022-03-26</td>\n",
       "    </tr>\n",
       "  </tbody>\n",
       "</table>\n",
       "</div>"
      ],
      "text/plain": [
       "        Order_ID  Agent_Age  Agent_Rating  Store_Latitude  Store_Longitude  \\\n",
       "0  ialx566343618         37           4.9       22.745049        75.892471   \n",
       "1  akqg208421122         34           4.5       12.913041        77.683237   \n",
       "2  njpu434582536         23           4.4       12.914264        77.678400   \n",
       "3  rjto796129700         38           4.7       11.003669        76.976494   \n",
       "4  zguw716275638         32           4.6       12.972793        80.249982   \n",
       "\n",
       "   Drop_Latitude  Drop_Longitude     Weather Traffic     Vehicle  \\\n",
       "0      22.765049       75.912471       Sunny    High  motorcycle   \n",
       "1      13.043041       77.813237      Stormy     Jam     scooter   \n",
       "2      12.924264       77.688400  Sandstorms     Low  motorcycle   \n",
       "3      11.053669       77.026494       Sunny  Medium  motorcycle   \n",
       "4      13.012793       80.289982      Cloudy    High     scooter   \n",
       "\n",
       "            Area  Delivery_Time     Category Order_Time Pickup_Time  \\\n",
       "0          Urban            120     Clothing   11:30:00    11:45:00   \n",
       "1  Metropolitian            165  Electronics   19:45:00    19:50:00   \n",
       "2          Urban            130       Sports   08:30:00    08:45:00   \n",
       "3  Metropolitian            105    Cosmetics   18:00:00    18:10:00   \n",
       "4  Metropolitian            150         Toys   13:30:00    13:45:00   \n",
       "\n",
       "   Order_Date  \n",
       "0  2022-03-19  \n",
       "1  2022-03-25  \n",
       "2  2022-03-19  \n",
       "3  2022-04-05  \n",
       "4  2022-03-26  "
      ]
     },
     "execution_count": 2,
     "metadata": {},
     "output_type": "execute_result"
    }
   ],
   "source": [
    "df_amazon_delivery = pd.read_csv('../data/processed/amazon_delivery_limpios.csv')\n",
    "df_amazon_delivery.head()"
   ]
  },
  {
   "cell_type": "markdown",
   "id": "c468e2ec",
   "metadata": {},
   "source": [
    "**Exploración del conjuto de datos**"
   ]
  },
  {
   "cell_type": "code",
   "execution_count": 3,
   "id": "b7dde901",
   "metadata": {},
   "outputs": [
    {
     "name": "stdout",
     "output_type": "stream",
     "text": [
      "El conjunto de datos amazon_delivery_limpio.csv contiene:\n",
      "filas:     43644\n",
      "columnas:     16\n"
     ]
    }
   ],
   "source": [
    "filas, columnas = df_amazon_delivery.shape\n",
    "print(f'El conjunto de datos amazon_delivery_limpio.csv contiene:\\nfilas:{filas:>10}\\ncolumnas:{columnas:>7}')"
   ]
  },
  {
   "cell_type": "markdown",
   "id": "29b3fcca",
   "metadata": {},
   "source": [
    "*Tipos de datos de cada columna*"
   ]
  },
  {
   "cell_type": "code",
   "execution_count": 4,
   "id": "91782905",
   "metadata": {},
   "outputs": [
    {
     "name": "stdout",
     "output_type": "stream",
     "text": [
      "<class 'pandas.core.frame.DataFrame'>\n",
      "RangeIndex: 43644 entries, 0 to 43643\n",
      "Data columns (total 16 columns):\n",
      " #   Column           Non-Null Count  Dtype  \n",
      "---  ------           --------------  -----  \n",
      " 0   Order_ID         43644 non-null  object \n",
      " 1   Agent_Age        43644 non-null  int64  \n",
      " 2   Agent_Rating     43644 non-null  float64\n",
      " 3   Store_Latitude   43644 non-null  float64\n",
      " 4   Store_Longitude  43644 non-null  float64\n",
      " 5   Drop_Latitude    43644 non-null  float64\n",
      " 6   Drop_Longitude   43644 non-null  float64\n",
      " 7   Weather          43644 non-null  object \n",
      " 8   Traffic          43644 non-null  object \n",
      " 9   Vehicle          43644 non-null  object \n",
      " 10  Area             43644 non-null  object \n",
      " 11  Delivery_Time    43644 non-null  int64  \n",
      " 12  Category         43644 non-null  object \n",
      " 13  Order_Time       43644 non-null  object \n",
      " 14  Pickup_Time      43644 non-null  object \n",
      " 15  Order_Date       43644 non-null  object \n",
      "dtypes: float64(5), int64(2), object(9)\n",
      "memory usage: 5.3+ MB\n"
     ]
    }
   ],
   "source": [
    "df_amazon_delivery.info()"
   ]
  },
  {
   "cell_type": "markdown",
   "id": "c14ea3b0",
   "metadata": {},
   "source": [
    "Las columnas **Order_Time**, **Pickup_Time** se tienen que cambiar el tipo de object a time y **Order_Date** de object a datetime.\n",
    "\n",
    "Las demás columna son correctos los tipos de datos."
   ]
  },
  {
   "cell_type": "markdown",
   "id": "6b1a9c7d",
   "metadata": {},
   "source": [
    "**Transformación del tipo de datos de *Order_Time* y *Pickup_Time*.**"
   ]
  },
  {
   "cell_type": "code",
   "execution_count": 5,
   "id": "6ee00250",
   "metadata": {},
   "outputs": [],
   "source": [
    "# Order_Time\n",
    "df_amazon_delivery['Order_Time_TD'] = pd.to_timedelta(df_amazon_delivery['Order_Time'])\n",
    "\n",
    "# Pickup_Time\n",
    "df_amazon_delivery['Pickup_Time_TD'] = pd.to_timedelta(df_amazon_delivery['Pickup_Time'])"
   ]
  },
  {
   "cell_type": "markdown",
   "id": "cc53e6a4",
   "metadata": {},
   "source": [
    "**Transformación del tipo de datos de *Order_Date*.**"
   ]
  },
  {
   "cell_type": "code",
   "execution_count": 6,
   "id": "fe7df67f",
   "metadata": {},
   "outputs": [
    {
     "name": "stdout",
     "output_type": "stream",
     "text": [
      "Tipo de Order_Date después de la primera conversion: datetime64[ns]\n",
      "\n",
      "Columna con solo la fehca\n",
      "0   2022-03-19\n",
      "1   2022-03-25\n",
      "2   2022-03-19\n",
      "Name: Order_Date, dtype: datetime64[ns]\n"
     ]
    }
   ],
   "source": [
    "# Order_Date\n",
    "df_amazon_delivery['Order_Date'] = pd.to_datetime(df_amazon_delivery['Order_Date'], format='%Y-%m-%d', errors='coerce')\n",
    "print('Tipo de Order_Date después de la primera conversion:', df_amazon_delivery['Order_Date'].dtype)\n",
    "\n",
    "print('\\nColumna con solo la fehca')\n",
    "print(df_amazon_delivery['Order_Date'].head(3))"
   ]
  },
  {
   "cell_type": "markdown",
   "id": "155024c7",
   "metadata": {},
   "source": [
    "---"
   ]
  },
  {
   "cell_type": "markdown",
   "id": "80051f12",
   "metadata": {},
   "source": [
    "**Evaluar la eficiencia general de las entregas**"
   ]
  },
  {
   "cell_type": "markdown",
   "id": "978698f7",
   "metadata": {},
   "source": [
    "*Tiempo promedio de Entrega*"
   ]
  },
  {
   "cell_type": "code",
   "execution_count": 7,
   "id": "2b5008bf",
   "metadata": {},
   "outputs": [
    {
     "name": "stdout",
     "output_type": "stream",
     "text": [
      "Promedio del tiempo de entrega (Delivery_Time): 124.91 minutos\n",
      "Que equivale a: 2 horas y 5 minutos\n"
     ]
    }
   ],
   "source": [
    "# Calcular el tiempo promedio de entregra (Delivery_Time)\n",
    "promedio_delivery_time = np.mean(df_amazon_delivery['Delivery_Time'])\n",
    "\n",
    "# Convertir el total de minutos a horas y minutos\n",
    "horas = int(promedio_delivery_time // 60) # Obtiene la parte entera de las horas\n",
    "minutos_restantes = promedio_delivery_time % 60 # Obtiene el resto de minutos\n",
    "\n",
    "print(f'Promedio del tiempo de entrega (Delivery_Time): {promedio_delivery_time:.2f} minutos')\n",
    "print(f'Que equivale a: {horas} horas y {minutos_restantes:.0f} minutos') # Redondea los minutos a un entero"
   ]
  },
  {
   "cell_type": "markdown",
   "id": "fff1c802",
   "metadata": {},
   "source": [
    "> El tiempo promedio de entre es de 2 horas y 5 minutos (2:05)."
   ]
  },
  {
   "cell_type": "markdown",
   "id": "5aa5cfe5",
   "metadata": {},
   "source": [
    "*Tiempo promedio de procesamiento del pedido*"
   ]
  },
  {
   "cell_type": "code",
   "execution_count": 8,
   "id": "ce68651d",
   "metadata": {},
   "outputs": [
    {
     "name": "stdout",
     "output_type": "stream",
     "text": [
      "Promedio de Procesamiento de la orden del pedido (Order_Processing_Time): 0 days 00:09:59.446728072\n",
      "Promedio de Procesamiento de la orden del pedido: 9:59 minutos\n"
     ]
    }
   ],
   "source": [
    "# Calcular el tiempo promedio de procesamiento del pedido (Pickup_Time - Order_Time)\n",
    "df_amazon_delivery['Order_Processing_Time'] = df_amazon_delivery['Pickup_Time_TD'] - df_amazon_delivery['Order_Time_TD']\n",
    "\n",
    "# Si el resultado es negativo, significa que la recogida es \"al día siguiente\"\n",
    "# Por lo tanto, le sumamos un día (24 horas)\n",
    "one_day = pd.Timedelta(days=1)\n",
    "df_amazon_delivery.loc[df_amazon_delivery['Order_Processing_Time'] < pd.Timedelta(0), 'Order_Processing_Time'] += one_day\n",
    "\n",
    "promedio_order_processing_time = np.mean(df_amazon_delivery['Order_Processing_Time'])\n",
    "\n",
    "promedio_en_segundos = promedio_order_processing_time.total_seconds()\n",
    "\n",
    "# 2. Calcular los minutos enteros\n",
    "minutos = int(promedio_en_segundos // 60)\n",
    "\n",
    "# 3. Calcular los segundos restantes y redondearlos al entero más cercano\n",
    "segundos = round(promedio_en_segundos % 60)\n",
    "\n",
    "print(f'Promedio de Procesamiento de la orden del pedido (Order_Processing_Time): {promedio_order_processing_time}')\n",
    "print(f'Promedio de Procesamiento de la orden del pedido: {minutos}:{segundos} minutos')"
   ]
  },
  {
   "cell_type": "markdown",
   "id": "81ae7fdc",
   "metadata": {},
   "source": [
    "> El tiempo que tarda la tienda o el centro de distribución en preparar el pedido para su recolección es de 9:59 minutos."
   ]
  },
  {
   "cell_type": "markdown",
   "id": "c9f11391",
   "metadata": {},
   "source": [
    "*Porcentaje de Entregas a Tiempo*"
   ]
  },
  {
   "cell_type": "code",
   "execution_count": 9,
   "id": "a4fc18e3",
   "metadata": {},
   "outputs": [
    {
     "name": "stdout",
     "output_type": "stream",
     "text": [
      "Basado en el 95% de tus entregas históricas:\n",
      "El 95º percentil del tiempo de entrega es: 215.00 minutos\n",
      "\n",
      "Usando 215.00 minutos como umbral de \"a tiempo\":\n",
      "Número de entregas a tiempo: 41559\n",
      "Número total de entregas: 43644\n",
      "Porcentaje de Entregas a Tiempo (con umbral basado en datos): 95.22%\n"
     ]
    }
   ],
   "source": [
    "# Calcular el porcentaje de entregas a tiempo (Número de entregas a tiempo / Número total de entregas * 100)\n",
    "\n",
    "# Porcentaje de las entregas que queremos que se consideren \"a tiempo\"\n",
    "# Encontrar el tiempo por debajo del cual está el 95% de las entregas\n",
    "percentil_deseado = 95 \n",
    "\n",
    "# Calcular el Percentil\n",
    "umbral_calculado = df_amazon_delivery['Delivery_Time'].quantile(percentil_deseado / 100)\n",
    "\n",
    "print(f'Basado en el {percentil_deseado}% de tus entregas históricas:')\n",
    "print(f'El {percentil_deseado}º percentil del tiempo de entrega es: {umbral_calculado:.2f} minutos')\n",
    "\n",
    "numero_entregas_a_tiempo = len(df_amazon_delivery[df_amazon_delivery['Delivery_Time'] <= umbral_calculado])\n",
    "numero_total_entregas = len(df_amazon_delivery)\n",
    "\n",
    "porcentaje_entregas_a_tiempo = (numero_entregas_a_tiempo / numero_total_entregas) * 100\n",
    "\n",
    "print(f'\\nUsando {umbral_calculado:.2f} minutos como umbral de \"a tiempo\":')\n",
    "print(f'Número de entregas a tiempo: {numero_entregas_a_tiempo}')\n",
    "print(f'Número total de entregas: {numero_total_entregas}')\n",
    "print(f'Porcentaje de Entregas a Tiempo (con umbral basado en datos): {porcentaje_entregas_a_tiempo:.2f}%')"
   ]
  },
  {
   "cell_type": "markdown",
   "id": "8855d4b2",
   "metadata": {},
   "source": [
    "> El 95.22% de los clientes esperan (y reciben) su pedido en 215 minutos (3 horas y 35 minutos)."
   ]
  },
  {
   "cell_type": "markdown",
   "id": "795726d1",
   "metadata": {},
   "source": [
    "*Distancia promedio de entregas*"
   ]
  },
  {
   "cell_type": "code",
   "execution_count": 10,
   "id": "5e4c1252",
   "metadata": {},
   "outputs": [],
   "source": [
    "def haversine_vector(lat1, lon1, lat2, lon2):\n",
    "    R = 6371.0\n",
    "    lat1 = np.radians(lat1)\n",
    "    lat2 = np.radians(lat2)\n",
    "    delta_lat = np.radians(lat2 - lat1)\n",
    "    delta_lon = np.radians(lon2 - lon1)\n",
    "\n",
    "    a = np.sin(delta_lat / 2)**2 + np.cos(lat1) * np.cos(lat2) * np.sin(delta_lon / 2)**2\n",
    "    c = 2 * np.arctan2(np.sqrt(a), np.sqrt(1 - a))\n",
    "    return R * c\n",
    "\n",
    "# Calcular en lote\n",
    "df_amazon_delivery[\"Distance_km\"] = haversine_vector(\n",
    "    df_amazon_delivery[\"Store_Latitude\"],\n",
    "    df_amazon_delivery[\"Store_Longitude\"],\n",
    "    df_amazon_delivery[\"Drop_Latitude\"],\n",
    "    df_amazon_delivery[\"Drop_Longitude\"]\n",
    ")"
   ]
  },
  {
   "cell_type": "code",
   "execution_count": 11,
   "id": "dacae05f",
   "metadata": {},
   "outputs": [
    {
     "data": {
      "text/html": [
       "<div>\n",
       "<style scoped>\n",
       "    .dataframe tbody tr th:only-of-type {\n",
       "        vertical-align: middle;\n",
       "    }\n",
       "\n",
       "    .dataframe tbody tr th {\n",
       "        vertical-align: top;\n",
       "    }\n",
       "\n",
       "    .dataframe thead th {\n",
       "        text-align: right;\n",
       "    }\n",
       "</style>\n",
       "<table border=\"1\" class=\"dataframe\">\n",
       "  <thead>\n",
       "    <tr style=\"text-align: right;\">\n",
       "      <th></th>\n",
       "      <th>Order_ID</th>\n",
       "      <th>Agent_Age</th>\n",
       "      <th>Agent_Rating</th>\n",
       "      <th>Store_Latitude</th>\n",
       "      <th>Store_Longitude</th>\n",
       "      <th>Drop_Latitude</th>\n",
       "      <th>Drop_Longitude</th>\n",
       "      <th>Weather</th>\n",
       "      <th>Traffic</th>\n",
       "      <th>Vehicle</th>\n",
       "      <th>Area</th>\n",
       "      <th>Delivery_Time</th>\n",
       "      <th>Category</th>\n",
       "      <th>Order_Time</th>\n",
       "      <th>Pickup_Time</th>\n",
       "      <th>Order_Date</th>\n",
       "      <th>Order_Time_TD</th>\n",
       "      <th>Pickup_Time_TD</th>\n",
       "      <th>Order_Processing_Time</th>\n",
       "      <th>Distance_km</th>\n",
       "    </tr>\n",
       "  </thead>\n",
       "  <tbody>\n",
       "    <tr>\n",
       "      <th>0</th>\n",
       "      <td>ialx566343618</td>\n",
       "      <td>37</td>\n",
       "      <td>4.9</td>\n",
       "      <td>22.745049</td>\n",
       "      <td>75.892471</td>\n",
       "      <td>22.765049</td>\n",
       "      <td>75.912471</td>\n",
       "      <td>Sunny</td>\n",
       "      <td>High</td>\n",
       "      <td>motorcycle</td>\n",
       "      <td>Urban</td>\n",
       "      <td>120</td>\n",
       "      <td>Clothing</td>\n",
       "      <td>11:30:00</td>\n",
       "      <td>11:45:00</td>\n",
       "      <td>2022-03-19</td>\n",
       "      <td>0 days 11:30:00</td>\n",
       "      <td>0 days 11:45:00</td>\n",
       "      <td>0 days 00:15:00</td>\n",
       "      <td>2.051173</td>\n",
       "    </tr>\n",
       "    <tr>\n",
       "      <th>1</th>\n",
       "      <td>akqg208421122</td>\n",
       "      <td>34</td>\n",
       "      <td>4.5</td>\n",
       "      <td>12.913041</td>\n",
       "      <td>77.683237</td>\n",
       "      <td>13.043041</td>\n",
       "      <td>77.813237</td>\n",
       "      <td>Stormy</td>\n",
       "      <td>Jam</td>\n",
       "      <td>scooter</td>\n",
       "      <td>Metropolitian</td>\n",
       "      <td>165</td>\n",
       "      <td>Electronics</td>\n",
       "      <td>19:45:00</td>\n",
       "      <td>19:50:00</td>\n",
       "      <td>2022-03-25</td>\n",
       "      <td>0 days 19:45:00</td>\n",
       "      <td>0 days 19:50:00</td>\n",
       "      <td>0 days 00:05:00</td>\n",
       "      <td>14.088346</td>\n",
       "    </tr>\n",
       "    <tr>\n",
       "      <th>2</th>\n",
       "      <td>njpu434582536</td>\n",
       "      <td>23</td>\n",
       "      <td>4.4</td>\n",
       "      <td>12.914264</td>\n",
       "      <td>77.678400</td>\n",
       "      <td>12.924264</td>\n",
       "      <td>77.688400</td>\n",
       "      <td>Sandstorms</td>\n",
       "      <td>Low</td>\n",
       "      <td>motorcycle</td>\n",
       "      <td>Urban</td>\n",
       "      <td>130</td>\n",
       "      <td>Sports</td>\n",
       "      <td>08:30:00</td>\n",
       "      <td>08:45:00</td>\n",
       "      <td>2022-03-19</td>\n",
       "      <td>0 days 08:30:00</td>\n",
       "      <td>0 days 08:45:00</td>\n",
       "      <td>0 days 00:15:00</td>\n",
       "      <td>1.083975</td>\n",
       "    </tr>\n",
       "    <tr>\n",
       "      <th>3</th>\n",
       "      <td>rjto796129700</td>\n",
       "      <td>38</td>\n",
       "      <td>4.7</td>\n",
       "      <td>11.003669</td>\n",
       "      <td>76.976494</td>\n",
       "      <td>11.053669</td>\n",
       "      <td>77.026494</td>\n",
       "      <td>Sunny</td>\n",
       "      <td>Medium</td>\n",
       "      <td>motorcycle</td>\n",
       "      <td>Metropolitian</td>\n",
       "      <td>105</td>\n",
       "      <td>Cosmetics</td>\n",
       "      <td>18:00:00</td>\n",
       "      <td>18:10:00</td>\n",
       "      <td>2022-04-05</td>\n",
       "      <td>0 days 18:00:00</td>\n",
       "      <td>0 days 18:10:00</td>\n",
       "      <td>0 days 00:10:00</td>\n",
       "      <td>5.457929</td>\n",
       "    </tr>\n",
       "    <tr>\n",
       "      <th>4</th>\n",
       "      <td>zguw716275638</td>\n",
       "      <td>32</td>\n",
       "      <td>4.6</td>\n",
       "      <td>12.972793</td>\n",
       "      <td>80.249982</td>\n",
       "      <td>13.012793</td>\n",
       "      <td>80.289982</td>\n",
       "      <td>Cloudy</td>\n",
       "      <td>High</td>\n",
       "      <td>scooter</td>\n",
       "      <td>Metropolitian</td>\n",
       "      <td>150</td>\n",
       "      <td>Toys</td>\n",
       "      <td>13:30:00</td>\n",
       "      <td>13:45:00</td>\n",
       "      <td>2022-03-26</td>\n",
       "      <td>0 days 13:30:00</td>\n",
       "      <td>0 days 13:45:00</td>\n",
       "      <td>0 days 00:15:00</td>\n",
       "      <td>4.334621</td>\n",
       "    </tr>\n",
       "  </tbody>\n",
       "</table>\n",
       "</div>"
      ],
      "text/plain": [
       "        Order_ID  Agent_Age  Agent_Rating  Store_Latitude  Store_Longitude  \\\n",
       "0  ialx566343618         37           4.9       22.745049        75.892471   \n",
       "1  akqg208421122         34           4.5       12.913041        77.683237   \n",
       "2  njpu434582536         23           4.4       12.914264        77.678400   \n",
       "3  rjto796129700         38           4.7       11.003669        76.976494   \n",
       "4  zguw716275638         32           4.6       12.972793        80.249982   \n",
       "\n",
       "   Drop_Latitude  Drop_Longitude     Weather Traffic     Vehicle  \\\n",
       "0      22.765049       75.912471       Sunny    High  motorcycle   \n",
       "1      13.043041       77.813237      Stormy     Jam     scooter   \n",
       "2      12.924264       77.688400  Sandstorms     Low  motorcycle   \n",
       "3      11.053669       77.026494       Sunny  Medium  motorcycle   \n",
       "4      13.012793       80.289982      Cloudy    High     scooter   \n",
       "\n",
       "            Area  Delivery_Time     Category Order_Time Pickup_Time  \\\n",
       "0          Urban            120     Clothing   11:30:00    11:45:00   \n",
       "1  Metropolitian            165  Electronics   19:45:00    19:50:00   \n",
       "2          Urban            130       Sports   08:30:00    08:45:00   \n",
       "3  Metropolitian            105    Cosmetics   18:00:00    18:10:00   \n",
       "4  Metropolitian            150         Toys   13:30:00    13:45:00   \n",
       "\n",
       "  Order_Date   Order_Time_TD  Pickup_Time_TD Order_Processing_Time  \\\n",
       "0 2022-03-19 0 days 11:30:00 0 days 11:45:00       0 days 00:15:00   \n",
       "1 2022-03-25 0 days 19:45:00 0 days 19:50:00       0 days 00:05:00   \n",
       "2 2022-03-19 0 days 08:30:00 0 days 08:45:00       0 days 00:15:00   \n",
       "3 2022-04-05 0 days 18:00:00 0 days 18:10:00       0 days 00:10:00   \n",
       "4 2022-03-26 0 days 13:30:00 0 days 13:45:00       0 days 00:15:00   \n",
       "\n",
       "   Distance_km  \n",
       "0     2.051173  \n",
       "1    14.088346  \n",
       "2     1.083975  \n",
       "3     5.457929  \n",
       "4     4.334621  "
      ]
     },
     "execution_count": 11,
     "metadata": {},
     "output_type": "execute_result"
    }
   ],
   "source": [
    "df_amazon_delivery.head(5)"
   ]
  },
  {
   "cell_type": "code",
   "execution_count": 12,
   "id": "a9fd3daa",
   "metadata": {},
   "outputs": [
    {
     "name": "stdout",
     "output_type": "stream",
     "text": [
      "Distancia promedio de entregas: 10.37 km\n"
     ]
    }
   ],
   "source": [
    "promedio_distancia_entregas = np.mean(df_amazon_delivery['Distance_km'])\n",
    "print(f'Distancia promedio de entregas: {promedio_distancia_entregas:.2f} km')"
   ]
  },
  {
   "cell_type": "markdown",
   "id": "bce5417b",
   "metadata": {},
   "source": [
    "> La distancia promedio de entregas es de 10.73 kilómetros"
   ]
  },
  {
   "cell_type": "markdown",
   "id": "8f7efe44",
   "metadata": {},
   "source": [
    "*Impacto del Clima y Tráfico en el Tiempo de Entregas*"
   ]
  },
  {
   "cell_type": "code",
   "execution_count": 13,
   "id": "faebb185",
   "metadata": {},
   "outputs": [],
   "source": [
    "# Formato de salida para la tabla dinamica (para el tiempo que sea más facil de leer)\n",
    "df_copia = df_amazon_delivery[['Order_ID', 'Weather', 'Traffic', 'Delivery_Time']].copy()\n",
    "\n",
    "# Crear una función para convertir minutos a formato legible\n",
    "def format_minutes_to_hours_minutes(minutes):\n",
    "    if pd.isna(minutes): # Manejar valores NaN si existen\n",
    "        return np.nan\n",
    "    total_seconds = minutes * 60\n",
    "    hours = int(total_seconds // 3600)\n",
    "    minutes_remainder = int((total_seconds % 3600) // 60)\n",
    "    \n",
    "    # Formato \"X horas y Y minutos\"\n",
    "    if hours > 0 and minutes_remainder > 0:\n",
    "        return f\"{hours}:{minutes_remainder}\"\n",
    "    elif hours > 0:\n",
    "        return f\"{hours}:{'00' if hours != 1 else '00'}\"\n",
    "    elif minutes_remainder > 0:\n",
    "        return f\"00:{minutes_remainder}\"\n",
    "    else:\n",
    "        return \"0 minutos\"\n",
    "\n",
    "# --- Crear la nueva columna formateada en el DataFrame ---\n",
    "df_copia['Delivery_Time_Formatted'] = df_copia['Delivery_Time'].apply(format_minutes_to_hours_minutes)"
   ]
  },
  {
   "cell_type": "code",
   "execution_count": 14,
   "id": "ca4959ed",
   "metadata": {},
   "outputs": [
    {
     "name": "stdout",
     "output_type": "stream",
     "text": [
      "Tabla Dinámica Impacto del Clima y Tráfico en el Tiempo de Entregas\n"
     ]
    },
    {
     "data": {
      "text/html": [
       "<div>\n",
       "<style scoped>\n",
       "    .dataframe tbody tr th:only-of-type {\n",
       "        vertical-align: middle;\n",
       "    }\n",
       "\n",
       "    .dataframe tbody tr th {\n",
       "        vertical-align: top;\n",
       "    }\n",
       "\n",
       "    .dataframe thead th {\n",
       "        text-align: right;\n",
       "    }\n",
       "</style>\n",
       "<table border=\"1\" class=\"dataframe\">\n",
       "  <thead>\n",
       "    <tr style=\"text-align: right;\">\n",
       "      <th></th>\n",
       "      <th></th>\n",
       "      <th>Delivery_Time</th>\n",
       "      <th>Delivery_Time_Formatted</th>\n",
       "    </tr>\n",
       "    <tr>\n",
       "      <th>Weather</th>\n",
       "      <th>Traffic</th>\n",
       "      <th></th>\n",
       "      <th></th>\n",
       "    </tr>\n",
       "  </thead>\n",
       "  <tbody>\n",
       "    <tr>\n",
       "      <th rowspan=\"4\" valign=\"top\">Cloudy</th>\n",
       "      <th>High</th>\n",
       "      <td>138.900838</td>\n",
       "      <td>2:18</td>\n",
       "    </tr>\n",
       "    <tr>\n",
       "      <th>Jam</th>\n",
       "      <td>174.652232</td>\n",
       "      <td>2:54</td>\n",
       "    </tr>\n",
       "    <tr>\n",
       "      <th>Low</th>\n",
       "      <td>106.688986</td>\n",
       "      <td>1:46</td>\n",
       "    </tr>\n",
       "    <tr>\n",
       "      <th>Medium</th>\n",
       "      <td>136.680720</td>\n",
       "      <td>2:16</td>\n",
       "    </tr>\n",
       "    <tr>\n",
       "      <th rowspan=\"4\" valign=\"top\">Fog</th>\n",
       "      <th>High</th>\n",
       "      <td>134.856390</td>\n",
       "      <td>2:14</td>\n",
       "    </tr>\n",
       "    <tr>\n",
       "      <th>Jam</th>\n",
       "      <td>174.054054</td>\n",
       "      <td>2:54</td>\n",
       "    </tr>\n",
       "    <tr>\n",
       "      <th>Low</th>\n",
       "      <td>104.950475</td>\n",
       "      <td>1:44</td>\n",
       "    </tr>\n",
       "    <tr>\n",
       "      <th>Medium</th>\n",
       "      <td>132.230812</td>\n",
       "      <td>2:12</td>\n",
       "    </tr>\n",
       "    <tr>\n",
       "      <th rowspan=\"4\" valign=\"top\">Sandstorms</th>\n",
       "      <th>High</th>\n",
       "      <td>131.856932</td>\n",
       "      <td>2:11</td>\n",
       "    </tr>\n",
       "    <tr>\n",
       "      <th>Jam</th>\n",
       "      <td>142.185776</td>\n",
       "      <td>2:22</td>\n",
       "    </tr>\n",
       "    <tr>\n",
       "      <th>Low</th>\n",
       "      <td>96.780159</td>\n",
       "      <td>1:36</td>\n",
       "    </tr>\n",
       "    <tr>\n",
       "      <th>Medium</th>\n",
       "      <td>132.783237</td>\n",
       "      <td>2:12</td>\n",
       "    </tr>\n",
       "    <tr>\n",
       "      <th rowspan=\"4\" valign=\"top\">Stormy</th>\n",
       "      <th>High</th>\n",
       "      <td>131.886555</td>\n",
       "      <td>2:11</td>\n",
       "    </tr>\n",
       "    <tr>\n",
       "      <th>Jam</th>\n",
       "      <td>142.232743</td>\n",
       "      <td>2:22</td>\n",
       "    </tr>\n",
       "    <tr>\n",
       "      <th>Low</th>\n",
       "      <td>98.627676</td>\n",
       "      <td>1:38</td>\n",
       "    </tr>\n",
       "    <tr>\n",
       "      <th>Medium</th>\n",
       "      <td>131.786435</td>\n",
       "      <td>2:11</td>\n",
       "    </tr>\n",
       "    <tr>\n",
       "      <th rowspan=\"4\" valign=\"top\">Sunny</th>\n",
       "      <th>High</th>\n",
       "      <td>110.011158</td>\n",
       "      <td>1:50</td>\n",
       "    </tr>\n",
       "    <tr>\n",
       "      <th>Jam</th>\n",
       "      <td>108.650986</td>\n",
       "      <td>1:48</td>\n",
       "    </tr>\n",
       "    <tr>\n",
       "      <th>Low</th>\n",
       "      <td>102.600917</td>\n",
       "      <td>1:42</td>\n",
       "    </tr>\n",
       "    <tr>\n",
       "      <th>Medium</th>\n",
       "      <td>96.076389</td>\n",
       "      <td>1:36</td>\n",
       "    </tr>\n",
       "    <tr>\n",
       "      <th rowspan=\"4\" valign=\"top\">Windy</th>\n",
       "      <th>High</th>\n",
       "      <td>128.680168</td>\n",
       "      <td>2:8</td>\n",
       "    </tr>\n",
       "    <tr>\n",
       "      <th>Jam</th>\n",
       "      <td>142.869584</td>\n",
       "      <td>2:22</td>\n",
       "    </tr>\n",
       "    <tr>\n",
       "      <th>Low</th>\n",
       "      <td>98.702198</td>\n",
       "      <td>1:38</td>\n",
       "    </tr>\n",
       "    <tr>\n",
       "      <th>Medium</th>\n",
       "      <td>130.675721</td>\n",
       "      <td>2:10</td>\n",
       "    </tr>\n",
       "  </tbody>\n",
       "</table>\n",
       "</div>"
      ],
      "text/plain": [
       "                    Delivery_Time Delivery_Time_Formatted\n",
       "Weather    Traffic                                       \n",
       "Cloudy     High        138.900838                    2:18\n",
       "           Jam         174.652232                    2:54\n",
       "           Low         106.688986                    1:46\n",
       "           Medium      136.680720                    2:16\n",
       "Fog        High        134.856390                    2:14\n",
       "           Jam         174.054054                    2:54\n",
       "           Low         104.950475                    1:44\n",
       "           Medium      132.230812                    2:12\n",
       "Sandstorms High        131.856932                    2:11\n",
       "           Jam         142.185776                    2:22\n",
       "           Low          96.780159                    1:36\n",
       "           Medium      132.783237                    2:12\n",
       "Stormy     High        131.886555                    2:11\n",
       "           Jam         142.232743                    2:22\n",
       "           Low          98.627676                    1:38\n",
       "           Medium      131.786435                    2:11\n",
       "Sunny      High        110.011158                    1:50\n",
       "           Jam         108.650986                    1:48\n",
       "           Low         102.600917                    1:42\n",
       "           Medium       96.076389                    1:36\n",
       "Windy      High        128.680168                     2:8\n",
       "           Jam         142.869584                    2:22\n",
       "           Low          98.702198                    1:38\n",
       "           Medium      130.675721                    2:10"
      ]
     },
     "execution_count": 14,
     "metadata": {},
     "output_type": "execute_result"
    }
   ],
   "source": [
    "# Impacto del clima y trafico en el tiempo de entregas (tabla dinamica)\n",
    "clima_trafico_tiempo_entrega = pd.pivot_table(df_amazon_delivery,\n",
    "                                              values='Delivery_Time',\n",
    "                                              index=['Weather', 'Traffic'],\n",
    "                                              aggfunc='mean')\n",
    "\n",
    "# Aplicar el formateo a la columna de resultados de la tabla dinámica\n",
    "clima_trafico_tiempo_entrega['Delivery_Time_Formatted'] = \\\n",
    "    clima_trafico_tiempo_entrega['Delivery_Time'].apply(format_minutes_to_hours_minutes)\n",
    "\n",
    "print(\"Tabla Dinámica Impacto del Clima y Tráfico en el Tiempo de Entregas\")\n",
    "clima_trafico_tiempo_entrega"
   ]
  },
  {
   "cell_type": "markdown",
   "id": "39d81fa9",
   "metadata": {},
   "source": [
    "> La tabla dinamica muestra los diferetes tiempos de entregas (tanto el minutos con en hora para facilitrar la leectura)."
   ]
  },
  {
   "cell_type": "markdown",
   "id": "551970d9",
   "metadata": {},
   "source": [
    "*Eficiencia por Tipo de Vehiculo*"
   ]
  },
  {
   "cell_type": "code",
   "execution_count": 15,
   "id": "24b6b33a",
   "metadata": {},
   "outputs": [
    {
     "name": "stdout",
     "output_type": "stream",
     "text": [
      "Tabla Dinámica Impacto del Clima y Tráfico en el Tiempo de Entregas\n"
     ]
    },
    {
     "data": {
      "text/html": [
       "<div>\n",
       "<style scoped>\n",
       "    .dataframe tbody tr th:only-of-type {\n",
       "        vertical-align: middle;\n",
       "    }\n",
       "\n",
       "    .dataframe tbody tr th {\n",
       "        vertical-align: top;\n",
       "    }\n",
       "\n",
       "    .dataframe thead th {\n",
       "        text-align: right;\n",
       "    }\n",
       "</style>\n",
       "<table border=\"1\" class=\"dataframe\">\n",
       "  <thead>\n",
       "    <tr style=\"text-align: right;\">\n",
       "      <th></th>\n",
       "      <th>Delivery_Time</th>\n",
       "      <th>Delivery_Time_Formatted</th>\n",
       "    </tr>\n",
       "    <tr>\n",
       "      <th>Vehicle</th>\n",
       "      <th></th>\n",
       "      <th></th>\n",
       "    </tr>\n",
       "  </thead>\n",
       "  <tbody>\n",
       "    <tr>\n",
       "      <th>bicycle</th>\n",
       "      <td>122.857143</td>\n",
       "      <td>2:2</td>\n",
       "    </tr>\n",
       "    <tr>\n",
       "      <th>motorcycle</th>\n",
       "      <td>131.030324</td>\n",
       "      <td>2:11</td>\n",
       "    </tr>\n",
       "    <tr>\n",
       "      <th>scooter</th>\n",
       "      <td>116.375385</td>\n",
       "      <td>1:56</td>\n",
       "    </tr>\n",
       "    <tr>\n",
       "      <th>van</th>\n",
       "      <td>116.074640</td>\n",
       "      <td>1:56</td>\n",
       "    </tr>\n",
       "  </tbody>\n",
       "</table>\n",
       "</div>"
      ],
      "text/plain": [
       "            Delivery_Time Delivery_Time_Formatted\n",
       "Vehicle                                          \n",
       "bicycle        122.857143                     2:2\n",
       "motorcycle     131.030324                    2:11\n",
       "scooter        116.375385                    1:56\n",
       "van            116.074640                    1:56"
      ]
     },
     "execution_count": 15,
     "metadata": {},
     "output_type": "execute_result"
    }
   ],
   "source": [
    "# Agrupar por vehiculo para eficación \n",
    "tipo_vehiculo_promedio = pd.pivot_table(df_amazon_delivery,\n",
    "                                        values='Delivery_Time',\n",
    "                                        index=['Vehicle'],\n",
    "                                        aggfunc='mean')\n",
    "\n",
    "# Aplicar el formateo a la columna de resultados de la tabla dinámica\n",
    "tipo_vehiculo_promedio['Delivery_Time_Formatted'] = \\\n",
    "    tipo_vehiculo_promedio['Delivery_Time'].apply(format_minutes_to_hours_minutes)\n",
    "\n",
    "print(\"Tabla Dinámica Impacto del Clima y Tráfico en el Tiempo de Entregas\")\n",
    "tipo_vehiculo_promedio"
   ]
  },
  {
   "cell_type": "markdown",
   "id": "e4264d55",
   "metadata": {},
   "source": [
    "> La tabla dinámica muestra el tiempo promedio que se tarda en entregar el paquete, se muestra que el scooter y la van son los tipos de vehiculos que tiene un mejor tiempo promedio de entrega."
   ]
  },
  {
   "cell_type": "markdown",
   "id": "0d7a037e",
   "metadata": {},
   "source": [
    "*Eficiencia por Área de Entrega*"
   ]
  }
 ],
 "metadata": {
  "kernelspec": {
   "display_name": "venv",
   "language": "python",
   "name": "python3"
  },
  "language_info": {
   "codemirror_mode": {
    "name": "ipython",
    "version": 3
   },
   "file_extension": ".py",
   "mimetype": "text/x-python",
   "name": "python",
   "nbconvert_exporter": "python",
   "pygments_lexer": "ipython3",
   "version": "3.12.1"
  }
 },
 "nbformat": 4,
 "nbformat_minor": 5
}
